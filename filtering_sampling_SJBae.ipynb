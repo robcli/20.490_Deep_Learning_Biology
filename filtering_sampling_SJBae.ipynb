{
 "cells": [
  {
   "cell_type": "code",
   "execution_count": 6,
   "id": "668dfa2f-d229-4c0d-afa4-1f2a51afd108",
   "metadata": {
    "tags": []
   },
   "outputs": [
    {
     "name": "stdout",
     "output_type": "stream",
     "text": [
      "Download_HMP2.ipynb           Prelim_data_analysis.ipynb        README.md\n",
      "\u001b[0m\u001b[01;36mhmp2\u001b[0m@                         Prelim_data_analysis_SJBae.ipynb  \u001b[01;34mutils\u001b[0m/\n",
      "hmp2_metadata_2018-08-20.csv  products_MGX_2017-08-12.html\n"
     ]
    }
   ],
   "source": [
    "%ls"
   ]
  },
  {
   "cell_type": "code",
   "execution_count": 17,
   "id": "85faf17d-4e1c-45a5-9295-f09197c6f047",
   "metadata": {
    "tags": []
   },
   "outputs": [
    {
     "name": "stdout",
     "output_type": "stream",
     "text": [
      "CSM5FZ4M_contigs.fna.gz\n",
      "CSM5MCUO_contigs.fna.gz\n",
      "CSM5MCVL_contigs.fna.gz\n",
      "CSM5MCVN_contigs.fna.gz\n",
      "CSM5MCW6_contigs.fna.gz\n",
      "ls: write error: Broken pipe\n"
     ]
    }
   ],
   "source": [
    "%ls /pool001/robcli/hmp2 | head -n 5"
   ]
  },
  {
   "cell_type": "code",
   "execution_count": 2,
   "id": "19af1090-3c91-4bce-bc94-8113839586ab",
   "metadata": {
    "tags": []
   },
   "outputs": [],
   "source": [
    "import utils.parser as parser\n",
    "\n",
    "import pandas as pd\n",
    "import matplotlib.pyplot as plt\n",
    "import seaborn as sns"
   ]
  },
  {
   "cell_type": "markdown",
   "id": "ecaa2bd9-80b6-463f-9987-f551cbcaa854",
   "metadata": {},
   "source": [
    "# Data filtering and sampling"
   ]
  },
  {
   "cell_type": "markdown",
   "id": "5d96a1c7-591a-49e3-b661-9653af9f34ee",
   "metadata": {},
   "source": [
    "## Import data"
   ]
  },
  {
   "cell_type": "code",
   "execution_count": 4,
   "id": "cd8c8222-4e0b-42f0-a0a9-48f9c9a5204b",
   "metadata": {
    "tags": []
   },
   "outputs": [],
   "source": [
    "sample_df = pd.read_csv(\"hmp2_metadata_2018-08-20.csv\", low_memory=False)"
   ]
  },
  {
   "cell_type": "code",
   "execution_count": 22,
   "id": "d9785a7d-a36b-48b8-a613-6c05f62c7523",
   "metadata": {
    "tags": []
   },
   "outputs": [],
   "source": [
    "# Get list of filenames in the folder\n",
    "hmp2_path = \"/pool001/robcli/hmp2\"\n",
    "existing_files = os.listdir(hmp2_path)"
   ]
  },
  {
   "cell_type": "markdown",
   "id": "002cec5c-95c9-4eb1-8f9d-8d6df82fd1ac",
   "metadata": {},
   "source": [
    "## Drop assemblies with small sizes"
   ]
  },
  {
   "cell_type": "code",
   "execution_count": 53,
   "id": "7f62b41b-74a7-464f-b601-fd6beaafe90d",
   "metadata": {
    "tags": []
   },
   "outputs": [
    {
     "name": "stdout",
     "output_type": "stream",
     "text": [
      "Found 1307 files >=10MB\n"
     ]
    }
   ],
   "source": [
    "min_size_bytes = 1 * 1024 * 1024  # 10 MB in bytes\n",
    "\n",
    "# List all files in the directory\n",
    "all_files = os.listdir(hmp2_path)\n",
    "\n",
    "# Keep only files that are >=10MB\n",
    "large_files = [\n",
    "    f for f in all_files \n",
    "    if os.path.isfile(os.path.join(hmp2_path, f)) and os.path.getsize(os.path.join(hmp2_path, f)) >= min_size_bytes\n",
    "]\n",
    "\n",
    "print(f\"Found {len(large_files)} files >=1MB\")"
   ]
  },
  {
   "cell_type": "code",
   "execution_count": 23,
   "id": "b434c71e-3428-4990-9182-9a73d7a0ade8",
   "metadata": {
    "tags": []
   },
   "outputs": [],
   "source": [
    "assembly_df = sample_df.query(\"data_type == 'metagenomics'\").\\\n",
    "              assign(AssemblyName = sample_df[\"External ID\"] + \"_contigs.fna.gz\")"
   ]
  },
  {
   "cell_type": "code",
   "execution_count": 56,
   "id": "6e804739-2bb1-456c-80c6-9b840b982768",
   "metadata": {
    "tags": []
   },
   "outputs": [
    {
     "data": {
      "text/html": [
       "<div>\n",
       "<style scoped>\n",
       "    .dataframe tbody tr th:only-of-type {\n",
       "        vertical-align: middle;\n",
       "    }\n",
       "\n",
       "    .dataframe tbody tr th {\n",
       "        vertical-align: top;\n",
       "    }\n",
       "\n",
       "    .dataframe thead th {\n",
       "        text-align: right;\n",
       "    }\n",
       "</style>\n",
       "<table border=\"1\" class=\"dataframe\">\n",
       "  <thead>\n",
       "    <tr style=\"text-align: right;\">\n",
       "      <th></th>\n",
       "      <th>Participant ID</th>\n",
       "      <th>External ID</th>\n",
       "      <th>diagnosis</th>\n",
       "    </tr>\n",
       "  </thead>\n",
       "  <tbody>\n",
       "    <tr>\n",
       "      <th>1077</th>\n",
       "      <td>C3001</td>\n",
       "      <td>CSM5MCXD</td>\n",
       "      <td>CD</td>\n",
       "    </tr>\n",
       "    <tr>\n",
       "      <th>1078</th>\n",
       "      <td>C3001</td>\n",
       "      <td>CSM5MCYS</td>\n",
       "      <td>CD</td>\n",
       "    </tr>\n",
       "    <tr>\n",
       "      <th>1079</th>\n",
       "      <td>C3001</td>\n",
       "      <td>CSM67U9J</td>\n",
       "      <td>CD</td>\n",
       "    </tr>\n",
       "    <tr>\n",
       "      <th>1080</th>\n",
       "      <td>C3001</td>\n",
       "      <td>CSM67UA2</td>\n",
       "      <td>CD</td>\n",
       "    </tr>\n",
       "    <tr>\n",
       "      <th>1081</th>\n",
       "      <td>C3001</td>\n",
       "      <td>CSM67UGC</td>\n",
       "      <td>CD</td>\n",
       "    </tr>\n",
       "    <tr>\n",
       "      <th>...</th>\n",
       "      <td>...</td>\n",
       "      <td>...</td>\n",
       "      <td>...</td>\n",
       "    </tr>\n",
       "    <tr>\n",
       "      <th>2701</th>\n",
       "      <td>P6038</td>\n",
       "      <td>PSMA26A1</td>\n",
       "      <td>UC</td>\n",
       "    </tr>\n",
       "    <tr>\n",
       "      <th>2702</th>\n",
       "      <td>P6038</td>\n",
       "      <td>PSMA26A3</td>\n",
       "      <td>UC</td>\n",
       "    </tr>\n",
       "    <tr>\n",
       "      <th>2703</th>\n",
       "      <td>P6038</td>\n",
       "      <td>PSMB4MC1</td>\n",
       "      <td>UC</td>\n",
       "    </tr>\n",
       "    <tr>\n",
       "      <th>2704</th>\n",
       "      <td>P6038</td>\n",
       "      <td>PSMB4MC3</td>\n",
       "      <td>UC</td>\n",
       "    </tr>\n",
       "    <tr>\n",
       "      <th>2705</th>\n",
       "      <td>P6038</td>\n",
       "      <td>PSMB4MC5</td>\n",
       "      <td>UC</td>\n",
       "    </tr>\n",
       "  </tbody>\n",
       "</table>\n",
       "<p>1307 rows × 3 columns</p>\n",
       "</div>"
      ],
      "text/plain": [
       "     Participant ID External ID diagnosis\n",
       "1077          C3001    CSM5MCXD        CD\n",
       "1078          C3001    CSM5MCYS        CD\n",
       "1079          C3001    CSM67U9J        CD\n",
       "1080          C3001    CSM67UA2        CD\n",
       "1081          C3001    CSM67UGC        CD\n",
       "...             ...         ...       ...\n",
       "2701          P6038    PSMA26A1        UC\n",
       "2702          P6038    PSMA26A3        UC\n",
       "2703          P6038    PSMB4MC1        UC\n",
       "2704          P6038    PSMB4MC3        UC\n",
       "2705          P6038    PSMB4MC5        UC\n",
       "\n",
       "[1307 rows x 3 columns]"
      ]
     },
     "execution_count": 56,
     "metadata": {},
     "output_type": "execute_result"
    }
   ],
   "source": [
    "# Filter the assembly_df using these filenames\n",
    "assembly_df = assembly_df[assembly_df[\"AssemblyName\"].isin(large_files)]\n",
    "assembly_df[[\"Participant ID\", \"External ID\", \"diagnosis\"]]"
   ]
  },
  {
   "cell_type": "markdown",
   "id": "b433d662-c5bf-49b5-be36-7e9b7bcca3c9",
   "metadata": {},
   "source": [
    "1338 -> 1307 \n",
    "\n",
    "31 samples are lost"
   ]
  },
  {
   "cell_type": "markdown",
   "id": "c48f46c1-e439-4605-a9dc-d5cd477eed33",
   "metadata": {},
   "source": [
    "## Check and filter by number of replicates"
   ]
  },
  {
   "cell_type": "code",
   "execution_count": 57,
   "id": "d614d9ea-91a9-469f-95e9-7c7ee122365c",
   "metadata": {
    "tags": []
   },
   "outputs": [
    {
     "name": "stdout",
     "output_type": "stream",
     "text": [
      "Diagnosis counts (1 per participant) among participants with <10 replicates:\n",
      "UC: 30\n",
      "CD: 50\n",
      "nonIBD: 26\n"
     ]
    }
   ],
   "source": [
    "# Drop duplicates so each participant appears only once\n",
    "assembly_df_unique = assembly_df.drop_duplicates(subset=\"Participant ID\")\n",
    "\n",
    "# Step 2: Count how many participants fall into each diagnosis category\n",
    "diagnosis_counts = assembly_df_unique[\"diagnosis\"].value_counts()\n",
    "\n",
    "# Step 3: Print counts\n",
    "print(\"Diagnosis counts (1 per participant) among participants with <10 replicates:\")\n",
    "print(f\"UC: {diagnosis_counts.get('UC', 0)}\")\n",
    "print(f\"CD: {diagnosis_counts.get('CD', 0)}\")\n",
    "print(f\"nonIBD: {diagnosis_counts.get('nonIBD', 0)}\")"
   ]
  },
  {
   "cell_type": "code",
   "execution_count": 58,
   "id": "627b7efb-da72-409b-bd54-e4a52864571b",
   "metadata": {
    "tags": []
   },
   "outputs": [
    {
     "data": {
      "text/plain": [
       "3"
      ]
     },
     "execution_count": 58,
     "metadata": {},
     "output_type": "execute_result"
    }
   ],
   "source": [
    "# Step 1: Count how many samples per participant\n",
    "replicate_counts = assembly_df[\"Participant ID\"].value_counts()\n",
    "min_replicates = replicate_counts.min()\n",
    "min_replicates"
   ]
  },
  {
   "cell_type": "code",
   "execution_count": 59,
   "id": "de7bdace-8616-404c-ab80-588ae991a283",
   "metadata": {
    "tags": []
   },
   "outputs": [
    {
     "data": {
      "image/png": "[encoded data removed]",
      "text/plain": [
       "<Figure size 1000x600 with 1 Axes>"
      ]
     },
     "metadata": {},
     "output_type": "display_data"
    }
   ],
   "source": [
    "# Step 2: Plot histogram of number of samples per participant\n",
    "plt.figure(figsize=(10, 6))\n",
    "plt.hist(replicate_counts, bins=range(1, replicate_counts.max() + 2), edgecolor='black')\n",
    "plt.title(\"Histogram of Number of Samples per Participant\")\n",
    "plt.xlabel(\"Number of Samples\")\n",
    "plt.ylabel(\"Number of Participants\")\n",
    "plt.grid(True)\n",
    "plt.tight_layout()\n",
    "plt.show()"
   ]
  },
  {
   "cell_type": "code",
   "execution_count": 60,
   "id": "709db545-1d42-4d1b-a8e8-25bf4e251e27",
   "metadata": {
    "tags": []
   },
   "outputs": [
    {
     "name": "stdout",
     "output_type": "stream",
     "text": [
      "34\n"
     ]
    }
   ],
   "source": [
    "# Step 2: Find participants with low replicates\n",
    "low_rep_ids = replicate_counts[replicate_counts < 10].index.tolist()\n",
    "print(len(low_rep_ids)) "
   ]
  },
  {
   "cell_type": "code",
   "execution_count": 46,
   "id": "2025a5ed-e637-4f12-bbab-cf4902046dab",
   "metadata": {
    "tags": []
   },
   "outputs": [],
   "source": [
    "# Step 3: Filter the full sample_df (not just assembly_df) for those participants\n",
    "low_rep_samples = assembly_df[assembly_df[\"Participant ID\"].isin(low_rep_ids)]\n",
    "\n",
    "# Step 4: Drop duplicates so each participant appears only once\n",
    "low_rep_unique = low_rep_samples.drop_duplicates(subset=\"Participant ID\")"
   ]
  },
  {
   "cell_type": "code",
   "execution_count": 47,
   "id": "fe78a18a-7bde-4c11-8712-49d200426f6a",
   "metadata": {
    "tags": []
   },
   "outputs": [
    {
     "name": "stdout",
     "output_type": "stream",
     "text": [
      "Diagnosis counts (1 per participant) among participants with <10 replicates:\n",
      "UC: 13\n",
      "CD: 14\n",
      "nonIBD: 5\n"
     ]
    }
   ],
   "source": [
    "# Step 2: Count how many participants fall into each diagnosis category\n",
    "diagnosis_counts = low_rep_unique[\"diagnosis\"].value_counts()\n",
    "\n",
    "# Step 3: Print counts\n",
    "print(\"Diagnosis counts (1 per participant) among participants with <10 replicates:\")\n",
    "print(f\"UC: {diagnosis_counts.get('UC', 0)}\")\n",
    "print(f\"CD: {diagnosis_counts.get('CD', 0)}\")\n",
    "print(f\"nonIBD: {diagnosis_counts.get('nonIBD', 0)}\")"
   ]
  },
  {
   "cell_type": "markdown",
   "id": "b61e23fa-99a2-413a-91ed-c08f2d497209",
   "metadata": {},
   "source": [
    "after filtering with >1MB files, we get 1 person with 3 samples and 1 person with 4 samples \n",
    "\n",
    "so <5 now drops 2 ppl \n",
    "\n",
    "'<10' -> more data but probably biased and losing 30% of participants.\n",
    "\n",
    "so i’ll move on with <5!"
   ]
  },
  {
   "cell_type": "code",
   "execution_count": 49,
   "id": "9649edfc-4aff-4b66-b528-980f888b5b8a",
   "metadata": {
    "tags": []
   },
   "outputs": [
    {
     "data": {
      "text/html": [
       "<div>\n",
       "<style scoped>\n",
       "    .dataframe tbody tr th:only-of-type {\n",
       "        vertical-align: middle;\n",
       "    }\n",
       "\n",
       "    .dataframe tbody tr th {\n",
       "        vertical-align: top;\n",
       "    }\n",
       "\n",
       "    .dataframe thead th {\n",
       "        text-align: right;\n",
       "    }\n",
       "</style>\n",
       "<table border=\"1\" class=\"dataframe\">\n",
       "  <thead>\n",
       "    <tr style=\"text-align: right;\">\n",
       "      <th></th>\n",
       "      <th>Participant ID</th>\n",
       "      <th>External ID</th>\n",
       "      <th>AssemblyName</th>\n",
       "    </tr>\n",
       "  </thead>\n",
       "  <tbody>\n",
       "    <tr>\n",
       "      <th>0</th>\n",
       "      <td>C3001</td>\n",
       "      <td>CSM5MCXD</td>\n",
       "      <td>CSM5MCXD_contigs.fna.gz</td>\n",
       "    </tr>\n",
       "    <tr>\n",
       "      <th>1</th>\n",
       "      <td>C3001</td>\n",
       "      <td>CSM5MCYS</td>\n",
       "      <td>CSM5MCYS_contigs.fna.gz</td>\n",
       "    </tr>\n",
       "    <tr>\n",
       "      <th>2</th>\n",
       "      <td>C3001</td>\n",
       "      <td>CSM79HG5</td>\n",
       "      <td>CSM79HG5_contigs.fna.gz</td>\n",
       "    </tr>\n",
       "    <tr>\n",
       "      <th>3</th>\n",
       "      <td>C3001</td>\n",
       "      <td>CSM67U9J</td>\n",
       "      <td>CSM67U9J_contigs.fna.gz</td>\n",
       "    </tr>\n",
       "    <tr>\n",
       "      <th>4</th>\n",
       "      <td>C3001</td>\n",
       "      <td>CSM67UGC</td>\n",
       "      <td>CSM67UGC_contigs.fna.gz</td>\n",
       "    </tr>\n",
       "    <tr>\n",
       "      <th>5</th>\n",
       "      <td>C3002</td>\n",
       "      <td>CSM67UBR</td>\n",
       "      <td>CSM67UBR_contigs.fna.gz</td>\n",
       "    </tr>\n",
       "    <tr>\n",
       "      <th>6</th>\n",
       "      <td>C3002</td>\n",
       "      <td>CSM5MCVL</td>\n",
       "      <td>CSM5MCVL_contigs.fna.gz</td>\n",
       "    </tr>\n",
       "    <tr>\n",
       "      <th>7</th>\n",
       "      <td>C3002</td>\n",
       "      <td>CSM67UBH</td>\n",
       "      <td>CSM67UBH_contigs.fna.gz</td>\n",
       "    </tr>\n",
       "    <tr>\n",
       "      <th>8</th>\n",
       "      <td>C3002</td>\n",
       "      <td>CSM79HJW</td>\n",
       "      <td>CSM79HJW_contigs.fna.gz</td>\n",
       "    </tr>\n",
       "    <tr>\n",
       "      <th>9</th>\n",
       "      <td>C3002</td>\n",
       "      <td>CSM67UBF</td>\n",
       "      <td>CSM67UBF_contigs.fna.gz</td>\n",
       "    </tr>\n",
       "    <tr>\n",
       "      <th>10</th>\n",
       "      <td>C3003</td>\n",
       "      <td>CSM5FZ4M</td>\n",
       "      <td>CSM5FZ4M_contigs.fna.gz</td>\n",
       "    </tr>\n",
       "    <tr>\n",
       "      <th>11</th>\n",
       "      <td>C3003</td>\n",
       "      <td>CSM5MCWQ</td>\n",
       "      <td>CSM5MCWQ_contigs.fna.gz</td>\n",
       "    </tr>\n",
       "    <tr>\n",
       "      <th>12</th>\n",
       "      <td>C3003</td>\n",
       "      <td>CSM67UBX</td>\n",
       "      <td>CSM67UBX_contigs.fna.gz</td>\n",
       "    </tr>\n",
       "    <tr>\n",
       "      <th>13</th>\n",
       "      <td>C3003</td>\n",
       "      <td>CSM79HLM</td>\n",
       "      <td>CSM79HLM_contigs.fna.gz</td>\n",
       "    </tr>\n",
       "    <tr>\n",
       "      <th>14</th>\n",
       "      <td>C3003</td>\n",
       "      <td>CSM67UBZ</td>\n",
       "      <td>CSM67UBZ_contigs.fna.gz</td>\n",
       "    </tr>\n",
       "    <tr>\n",
       "      <th>15</th>\n",
       "      <td>C3004</td>\n",
       "      <td>CSM67UDJ</td>\n",
       "      <td>CSM67UDJ_contigs.fna.gz</td>\n",
       "    </tr>\n",
       "    <tr>\n",
       "      <th>16</th>\n",
       "      <td>C3004</td>\n",
       "      <td>CSM79HLA</td>\n",
       "      <td>CSM79HLA_contigs.fna.gz</td>\n",
       "    </tr>\n",
       "    <tr>\n",
       "      <th>17</th>\n",
       "      <td>C3004</td>\n",
       "      <td>CSM67UDR</td>\n",
       "      <td>CSM67UDR_contigs.fna.gz</td>\n",
       "    </tr>\n",
       "    <tr>\n",
       "      <th>18</th>\n",
       "      <td>C3004</td>\n",
       "      <td>CSM5MCXN</td>\n",
       "      <td>CSM5MCXN_contigs.fna.gz</td>\n",
       "    </tr>\n",
       "    <tr>\n",
       "      <th>19</th>\n",
       "      <td>C3004</td>\n",
       "      <td>CSM79HLE</td>\n",
       "      <td>CSM79HLE_contigs.fna.gz</td>\n",
       "    </tr>\n",
       "  </tbody>\n",
       "</table>\n",
       "</div>"
      ],
      "text/plain": [
       "   Participant ID External ID             AssemblyName\n",
       "0           C3001    CSM5MCXD  CSM5MCXD_contigs.fna.gz\n",
       "1           C3001    CSM5MCYS  CSM5MCYS_contigs.fna.gz\n",
       "2           C3001    CSM79HG5  CSM79HG5_contigs.fna.gz\n",
       "3           C3001    CSM67U9J  CSM67U9J_contigs.fna.gz\n",
       "4           C3001    CSM67UGC  CSM67UGC_contigs.fna.gz\n",
       "5           C3002    CSM67UBR  CSM67UBR_contigs.fna.gz\n",
       "6           C3002    CSM5MCVL  CSM5MCVL_contigs.fna.gz\n",
       "7           C3002    CSM67UBH  CSM67UBH_contigs.fna.gz\n",
       "8           C3002    CSM79HJW  CSM79HJW_contigs.fna.gz\n",
       "9           C3002    CSM67UBF  CSM67UBF_contigs.fna.gz\n",
       "10          C3003    CSM5FZ4M  CSM5FZ4M_contigs.fna.gz\n",
       "11          C3003    CSM5MCWQ  CSM5MCWQ_contigs.fna.gz\n",
       "12          C3003    CSM67UBX  CSM67UBX_contigs.fna.gz\n",
       "13          C3003    CSM79HLM  CSM79HLM_contigs.fna.gz\n",
       "14          C3003    CSM67UBZ  CSM67UBZ_contigs.fna.gz\n",
       "15          C3004    CSM67UDJ  CSM67UDJ_contigs.fna.gz\n",
       "16          C3004    CSM79HLA  CSM79HLA_contigs.fna.gz\n",
       "17          C3004    CSM67UDR  CSM67UDR_contigs.fna.gz\n",
       "18          C3004    CSM5MCXN  CSM5MCXN_contigs.fna.gz\n",
       "19          C3004    CSM79HLE  CSM79HLE_contigs.fna.gz"
      ]
     },
     "execution_count": 49,
     "metadata": {},
     "output_type": "execute_result"
    }
   ],
   "source": [
    "# Step 1: Count samples per participant\n",
    "replicate_counts = assembly_df[\"Participant ID\"].value_counts()\n",
    "\n",
    "# Step 2: Get list of participants with >5 samples\n",
    "eligible_ids = replicate_counts[replicate_counts > 5].index\n",
    "\n",
    "# Step 3: Filter assembly_df for those participants only\n",
    "filtered_df = assembly_df[assembly_df[\"Participant ID\"].isin(eligible_ids)]\n",
    "\n",
    "# Step 4: Randomly select 5 samples per participant\n",
    "sampled_df = filtered_df.groupby(\"Participant ID\").sample(n=5, random_state=42)\n",
    "\n",
    "# Step 5 (optional): Reset index for clean output\n",
    "sampled_df = sampled_df.reset_index(drop=True)\n",
    "\n",
    "# Preview\n",
    "sampled_df[[\"Participant ID\", \"External ID\", \"AssemblyName\"]].head(20)\n"
   ]
  },
  {
   "cell_type": "markdown",
   "id": "e7b70a1e-a37d-435a-819e-ee94466aa38c",
   "metadata": {},
   "source": [
    "## Save the metadata for the sampled_df"
   ]
  },
  {
   "cell_type": "code",
   "execution_count": 68,
   "id": "2a2b87ef-995d-4bb1-8e62-b601ed96fa98",
   "metadata": {
    "tags": []
   },
   "outputs": [],
   "source": [
    "output_path = \"sampled_metadata.csv\"\n",
    "sampled_df.to_csv(output_path, index=False)"
   ]
  }
 ],
 "metadata": {
  "kernelspec": {
   "display_name": "Python 3 (ipykernel)",
   "language": "python",
   "name": "python3"
  },
  "language_info": {
   "codemirror_mode": {
    "name": "ipython",
    "version": 3
   },
   "file_extension": ".py",
   "mimetype": "text/x-python",
   "name": "python",
   "nbconvert_exporter": "python",
   "pygments_lexer": "ipython3",
   "version": "3.11.3"
  }
 },
 "nbformat": 4,
 "nbformat_minor": 5
}
